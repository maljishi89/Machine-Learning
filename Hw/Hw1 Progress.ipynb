{
 "cells": [
  {
   "cell_type": "markdown",
   "metadata": {
    "id": "aPOJw6GZJ4MZ"
   },
   "source": [
    "\n",
    "1.\t[40 points] Modify BGD and SGD codes from least squares linear regression for implementing batch gradient ascent and stochastic gradient ascent for logistic regression (you can find the codes from ICS485_IBL.ipynb that has been uploaded in Ms Teams folder). As logistic regression is for binary classification purpose, you cannot use the generated data there [the pairs of x and y that are generated using make_regression()]. The preferable form of the dataset should be like this:\n",
    "\n",
    "![image.png](attachment:image.png)\n",
    "But, the number of points should be at least 1000 to make it better. \n",
    "\n",
    "After you generate the data points,\n",
    "\n",
    "\n",
    "a.\tTrain your model using all data points, and plot the data points using different colors for different classes (there should be two plots, the first one corresponds to the result of batch gradient ascent, and the second one corresponds to the stochastic gradient ascent)\n",
    "\n",
    "\n",
    "b.\tDivide the data point into training data (80%) and test data (20%) randomly. Train your model (using both batch and stochastic gradient ascent) using the training data, and measure their classification performances using the following metrics\n",
    "\n",
    "i.\tAccuracy\n",
    "\n",
    "ii.\tF1 score \n",
    "\n",
    "iii.\tSensitivity\n",
    "\n",
    "iv.\tPrecision\n",
    "\n"
   ]
  },
  {
   "cell_type": "code",
   "execution_count": 50,
   "metadata": {
    "executionInfo": {
     "elapsed": 1109,
     "status": "ok",
     "timestamp": 1603881124794,
     "user": {
      "displayName": "M M",
      "photoUrl": "https://lh3.googleusercontent.com/a-/AOh14GhTpe2wb6eeAb5oACw2uQos9tk5KOT_ogG8zrvJog=s64",
      "userId": "00095342535920509079"
     },
     "user_tz": -180
    },
    "id": "ApIij5KGil-P"
   },
   "outputs": [],
   "source": [
    "def gradient(theta, x, y):\n",
    "    # Computes the gradient of the cost function at the point theta\n",
    "    m = x.shape[0]\n",
    "    return (1 / m) * np.dot(x.T, sigmoid(net_input(theta,   x)) - y)\n",
    "\n",
    "\n",
    "\n",
    "def cost_function(theta, x, y):\n",
    "    # Computes the cost function for all the training samples\n",
    "    m = x.shape[0]\n",
    "    total_cost = -(1 / m) * np.sum(\n",
    "        y * np.log(probability(theta, x)) + (1 - y) * np.log(\n",
    "            1 - probability(theta, x)))\n",
    "    return total_cost\n",
    "\n",
    "\n",
    "def probability(theta, x):\n",
    "    # Returns the probability after passing through sigmoid\n",
    "    return sigmoid(net_input(theta, x))\n",
    "\n",
    "\n",
    "\n",
    "def net_input(theta, x):\n",
    "    # Computes the weighted sum of inputs\n",
    "    return np.dot(x, theta)\n"
   ]
  },
  {
   "cell_type": "markdown",
   "metadata": {
    "id": "62OI3OwHJ4Ma"
   },
   "source": [
    "--BGA using Logistic regression"
   ]
  },
  {
   "cell_type": "code",
   "execution_count": 51,
   "metadata": {},
   "outputs": [],
   "source": [
    "#BATCH GRADIENT ASCENT\n",
    "import numpy as np\n",
    "import math\n",
    "import random\n",
    "import sklearn\n",
    "from sklearn.datasets.samples_generator import make_regression \n",
    "import pylab\n",
    "from scipy import stats\n",
    "from sklearn.linear_model import LogisticRegression\n",
    "from sklearn.datasets import make_classification\n",
    "from sklearn.datasets.samples_generator import make_blobs\n",
    "\n",
    "\n",
    "def sigmoid(t):\n",
    "    return 1 / (1 + np.exp(-t))\n",
    "\n",
    "\n",
    "def gradient_ascent_BGA(alpha, x, y, ep=0.0001, max_iter=10000):\n",
    "    converged = False\n",
    "    iter = 0\n",
    "    n = x.shape[0] # number of samples\n",
    "\n",
    "    # initial theta\n",
    "    t0 = np.random.random(x.shape[1])\n",
    "    \n",
    "    # total error, J(theta) \n",
    "    # cost function for logistec regression\n",
    "    J = sum([(x[i][1]* math.log(sigmoid(t0[0]* x[i][0])) + (1- x[i][1])*math.log(1- sigmoid(t0[0]* x[i][0]) ) ) for i in range(n)])\n",
    "\n",
    "    holder_t0 = [t0]\n",
    "    holder_J  = [J]\n",
    "    # Iterate Loop\n",
    "    while not converged:\n",
    "        # for each training sample, compute the gradient (d/d_theta j(theta))\n",
    "        grad0 = 1.0/n * sum([(x[i][1]* math.log(sigmoid(t0[0]*x[i][0]))) for i in range(n)]) \n",
    "        grad1 = 1.0/n * sum([(x[i][1]* math.log(sigmoid(t0[0]*x[i][0])))*x[i][0] for i in range(n)])\n",
    "        \n",
    "\n",
    "        \n",
    "        # update the theta_temp\n",
    "        temp0 = t0 - alpha * grad0\n",
    "    \n",
    "        # update theta\n",
    "        t0 = temp0\n",
    "        \n",
    "        holder_t0.append(t0)\n",
    "\n",
    "        # mean squared error\n",
    "        e = 0.5*sum( [ (x[i][1]* math.log(sigmoid(t0[0]*x[i][0])))**2 for i in range(n)] ) \n",
    "\n",
    "        if abs(J-e) <= ep:\n",
    "            print('Converged, iterations: ', iter, '!!!')\n",
    "            converged = True\n",
    "    \n",
    "        J = e   # update error\n",
    "        holder_J.append(J)\n",
    "        iter += 1  # update iter\n",
    "    \n",
    "        if iter == max_iter:\n",
    "            print ('Max interactions exceeded!')\n",
    "            converged = True\n",
    "\n",
    "    return t0, holder_t0, holder_J"
   ]
  },
  {
   "cell_type": "code",
   "execution_count": 59,
   "metadata": {
    "colab": {
     "base_uri": "https://localhost:8080/",
     "height": 367
    },
    "executionInfo": {
     "elapsed": 1315,
     "status": "ok",
     "timestamp": 1603881171340,
     "user": {
      "displayName": "M M",
      "photoUrl": "https://lh3.googleusercontent.com/a-/AOh14GhTpe2wb6eeAb5oACw2uQos9tk5KOT_ogG8zrvJog=s64",
      "userId": "00095342535920509079"
     },
     "user_tz": -180
    },
    "id": "WSwIs6qjJ4Mb",
    "outputId": "0aa68b58-0bad-41b9-f1d4-6cf6bfd175f8"
   },
   "outputs": [
    {
     "name": "stdout",
     "output_type": "stream",
     "text": [
      "x.shape = (100, 2) y.shape = (100,)\n",
      "Converged, iterations:  1 !!!\n",
      "theta0 = [0.20796796 0.83906082]\n",
      "the cost of logistic regression (rss, erms) = (70.88336554107468, 0.8419225946669604\n"
     ]
    },
    {
     "data": {
      "image/png": "[encoded data removed]",
      "text/plain": [
       "<Figure size 432x288 with 1 Axes>"
      ]
     },
     "metadata": {
      "needs_background": "light"
     },
     "output_type": "display_data"
    },
    {
     "name": "stdout",
     "output_type": "stream",
     "text": [
      "Done!\n"
     ]
    }
   ],
   "source": [
    "if __name__ == '__main__':\n",
    "    \n",
    "    # generate 2d classification dataset\n",
    "\n",
    "    #X, y = make_blobs(n_samples=100, centers=2, n_features=2, random_state=1)\n",
    "\n",
    "    #x, y = make_regression(n_samples=1000, n_features=1, n_informative=1, \n",
    "    #                    random_state=0, noise=35) \n",
    "    #x, y = make_blobs(n_samples=100, centers=2, n_features=1, random_state=1)\n",
    "    #x, y = make_blobs(n_samples=1000, centers=2, n_features=2, random_state=1)\n",
    "    x, y = make_classification(n_features=2, n_redundant=0, n_informative=1,\n",
    "                             n_clusters_per_class=1,n_samples=100)\n",
    "    print ('x.shape = %s y.shape = %s' %(x.shape, y.shape))\n",
    "\n",
    "    alpha = 0.01 # learning rate\n",
    "    ep = 0.01 # convergence criteria\n",
    "\n",
    "    # call gredient acent\n",
    "    theta0, theta0_seq, J_seq = gradient_ascent_BGA(alpha, x, y, ep, max_iter=2000)\n",
    "    print (('theta0 = %s') %(theta0)) \n",
    "\n",
    "    n = x.shape[0]\n",
    "    #Calculate the cost of logistic regression using residual sum of squares and root-mean-square error\n",
    "    #(y[i]* math.log(sigmoid(t0*x[i]))) ???\n",
    "    rss = sum([(x[i][1]* math.log(sigmoid(theta0[0]*x[i][0])))**2 for i in range(n)])\n",
    "    erms = math.sqrt(rss/n)\n",
    "    print (('the cost of logistic regression (rss, erms) = (%s, %s') %(rss, erms)) \n",
    "    \n",
    "    \n",
    "    # plot\n",
    "    #for i in range(x.shape[0]):\n",
    "    #    y_predict = sigmoid(theta0*x)\n",
    "    y_predict = theta0[0]*x \n",
    "    x1 = [x[i][0] for i in range(len(x))]\n",
    "    x2 = [x[i][1] for i in range(len(x))]\n",
    "\n",
    "\n",
    "    x_1 = x[np.where(y== 0.0)]\n",
    "    x_2 = x[np.where(y==1.0)]\n",
    "    pylab.plot(x, y_predict, '-r', label='y=2x+1')\n",
    "    #pylab.scatter(x1,x2)\n",
    "    pylab.scatter([x_1[:,0]], [x_1[:,1]], c = 'deepskyblue', label = 'y = 0' )\n",
    "    pylab.scatter([x_2[:,0]], [x_2[:,1]], c = 'tomato', label = 'y = 1' )\n",
    "\n",
    "    pylab.xlabel('x')\n",
    "    pylab.ylabel('y')\n",
    "    pylab.show()\n",
    "    \n",
    "    #pylab.plot(theta0_seq, 'k-')\n",
    "    #pylab.ylabel('t0');\n",
    "    #pylab.xlabel('iteration');\n",
    "    #pylab.show()\n",
    "    \n",
    "    \n",
    "    #pylab.plot(J_seq, 'k-',label=\"ERROR\")\n",
    "    #pylab.ylabel('J');\n",
    "    #pylab.xlabel('iteration');\n",
    "    #pylab.show()\n",
    "    \n",
    "    print (\"Done!\")\n",
    "    "
   ]
  },
  {
   "cell_type": "markdown",
   "metadata": {
    "id": "dE4hxom_J4Me"
   },
   "source": [
    "--SGA using Logistic regression"
   ]
  },
  {
   "cell_type": "code",
   "execution_count": 60,
   "metadata": {
    "executionInfo": {
     "elapsed": 1150,
     "status": "ok",
     "timestamp": 1603881283209,
     "user": {
      "displayName": "M M",
      "photoUrl": "https://lh3.googleusercontent.com/a-/AOh14GhTpe2wb6eeAb5oACw2uQos9tk5KOT_ogG8zrvJog=s64",
      "userId": "00095342535920509079"
     },
     "user_tz": -180
    },
    "id": "4o111kZcxiCe"
   },
   "outputs": [],
   "source": [
    "#STOCHASTIC GRADIENT ASCENT\n",
    "import numpy as np\n",
    "import math\n",
    "import random\n",
    "import sklearn\n",
    "from sklearn.datasets.samples_generator import make_regression \n",
    "from sklearn.metrics import mean_squared_error\n",
    "import pylab\n",
    "from scipy import stats\n",
    "from sklearn.datasets import make_classification\n",
    "from sklearn.datasets.samples_generator import make_blobs\n",
    "\n",
    "\n",
    "def sigmoid(t):\n",
    "    return 1 / (1 + np.exp(-t))\n",
    "\n",
    "\n",
    "def gradient_ascent_SGD(alpha, x, y, ep=0.0001, max_iter=10000):\n",
    "    converged = False\n",
    "    iter = 0\n",
    "    n = x.shape[0] # number of samples\n",
    "\n",
    "    # initial theta\n",
    "    t0 = np.random.random(x.shape[1])\n",
    "    print(t0)\n",
    "\n",
    "    # total error, J(theta)\n",
    "    # cost function for logistec regression\n",
    "    \n",
    "    J = cost_function(t0, x, y)\n",
    "    \n",
    "    holder_t0 = [t0]\n",
    "    holder_J  = [J]\n",
    "    # Iterate Loop\n",
    "    while not converged:\n",
    "        # for each training sample, compute the gradient (d/d_theta j(theta))\n",
    "        for i in range(n):\n",
    "            grad0 = cost_function(t0, x, y) \n",
    "\n",
    "            # update the theta_temp\n",
    "            temp0 = np.subtract(t0, np.multiply(alpha, grad0))             \n",
    "    \n",
    "            # update theta\n",
    "            t0 = temp0\n",
    "#             print(t0)\n",
    "        \n",
    "        holder_t0.append(t0)\n",
    "\n",
    "        # mean squared error \n",
    "        Y = np.array(y)\n",
    "        X = np.array(x)\n",
    "        e = 0.5*np.sum( [ (np.dot(Y,np.log(sigmoid(np.multiply(t0,X)))) )**2 ] ) \n",
    "\n",
    "        if abs(J-e) <= ep:\n",
    "            print('Converged, iterations: ', iter, '!!!')\n",
    "            converged = True\n",
    "        \n",
    "        if e>J: converged = True\n",
    " \n",
    "  \n",
    "        J = e   # update error\n",
    "        holder_J.append(J)\n",
    "        iter += 1  # update iter\n",
    "    \n",
    "        if iter == max_iter:\n",
    "            print ('Max interactions exceeded!')\n",
    "            converged = True\n",
    "\n",
    "    return t0, holder_t0, holder_J\n"
   ]
  },
  {
   "cell_type": "code",
   "execution_count": 66,
   "metadata": {
    "colab": {
     "base_uri": "https://localhost:8080/",
     "height": 366
    },
    "executionInfo": {
     "elapsed": 2310,
     "status": "ok",
     "timestamp": 1603881126006,
     "user": {
      "displayName": "M M",
      "photoUrl": "https://lh3.googleusercontent.com/a-/AOh14GhTpe2wb6eeAb5oACw2uQos9tk5KOT_ogG8zrvJog=s64",
      "userId": "00095342535920509079"
     },
     "user_tz": -180
    },
    "id": "rgAxC78rJ4Me",
    "outputId": "5a2b63bb-b3c4-4a74-a900-bdbab4e00e33"
   },
   "outputs": [
    {
     "name": "stdout",
     "output_type": "stream",
     "text": [
      "x.shape = (100, 2) y.shape = (100,)\n",
      "[0.04546467 0.84051994]\n",
      "theta0 = [-0.41221339  0.38284188]\n",
      "the cost of logistic regression (rss, erms) = (2128.3973225958935, 4.613455670748223\n"
     ]
    },
    {
     "data": {
      "image/png": "[encoded data removed]",
      "text/plain": [
       "<Figure size 432x288 with 1 Axes>"
      ]
     },
     "metadata": {
      "needs_background": "light"
     },
     "output_type": "display_data"
    },
    {
     "name": "stdout",
     "output_type": "stream",
     "text": [
      "Done!\n"
     ]
    }
   ],
   "source": [
    "\n",
    "if __name__ == '__main__':\n",
    "    \n",
    "    #x, y = make_blobs(n_samples=100, centers=2, n_features=1, random_state=0)\n",
    "    x, y = make_classification(n_features=2, n_redundant=0, n_informative=1,\n",
    "                             n_clusters_per_class=1)\n",
    "\n",
    "    print ('x.shape = %s y.shape = %s' %(x.shape, y.shape))\n",
    " \n",
    "    alpha = 0.01 # learning rate\n",
    "    ep = 0.01 # convergence criteria\n",
    "\n",
    "    # call gredient decent, and get intercept(=theta0) and slope(=theta1)\n",
    "    theta0, theta0_seq, J_seq = gradient_ascent_SGD(alpha, x, y, ep, max_iter=1000)\n",
    "    print (('theta0 = %s') %theta0) \n",
    "    \n",
    "    n = x.shape[0]\n",
    "    #Calculate the cost of linear regression using residual sum of squares and root-mean-square error\n",
    "    Y = np.array(y)\n",
    "    X = np.array(x)\n",
    "    rss = np.sum( [ (np.dot(Y,np.log(sigmoid(np.multiply(theta0,X)))) )**2 ] )\n",
    "    erms = math.sqrt(rss/n)\n",
    "    print (('the cost of logistic regression (rss, erms) = (%s, %s') %(rss, erms)) \n",
    "    \n",
    "    \n",
    "    # plot\n",
    "    #for i in range(x.shape[0]):\n",
    "    #    y_predict = sigmoid(theta0*x)\n",
    "    y_predict = theta0[0]*x \n",
    "    x1 = [x[i][0] for i in range(len(x))]\n",
    "    x2 = [x[i][1] for i in range(len(x))]\n",
    "\n",
    "\n",
    "    x_1 = x[np.where(y== 0.0)]\n",
    "    x_2 = x[np.where(y==1.0)]\n",
    "    pylab.plot(x, y_predict, '-r', label='y=2x+1')\n",
    "    #pylab.scatter(x1,x2)\n",
    "    pylab.scatter([x_1[:,0]], [x_1[:,1]], c = 'deepskyblue', label = 'y = 0' )\n",
    "    pylab.scatter([x_2[:,0]], [x_2[:,1]], c = 'tomato', label = 'y = 1' )\n",
    "\n",
    "    pylab.xlabel('x')\n",
    "    pylab.ylabel('y')\n",
    "    pylab.show()\n",
    "    \n",
    "    #pylab.plot(theta0_seq, 'k-')\n",
    "    #pylab.ylabel('t0');\n",
    "    #pylab.xlabel('iteration');\n",
    "    #pylab.show()\n",
    "        \n",
    "    #pylab.plot(J_seq, 'k-',label=\"ERROR\")\n",
    "    #pylab.ylabel('J');\n",
    "    #pylab.xlabel('iteration');\n",
    "    #pylab.show()\n",
    "    \n",
    "    print (\"Done!\")"
   ]
  },
  {
   "cell_type": "code",
   "execution_count": 34,
   "metadata": {
    "executionInfo": {
     "elapsed": 2305,
     "status": "ok",
     "timestamp": 1603881126007,
     "user": {
      "displayName": "M M",
      "photoUrl": "https://lh3.googleusercontent.com/a-/AOh14GhTpe2wb6eeAb5oACw2uQos9tk5KOT_ogG8zrvJog=s64",
      "userId": "00095342535920509079"
     },
     "user_tz": -180
    },
    "id": "lKk7MLCXJ4Mk"
   },
   "outputs": [],
   "source": [
    "#########################---Q2---###############################"
   ]
  },
  {
   "cell_type": "markdown",
   "metadata": {
    "executionInfo": {
     "elapsed": 2302,
     "status": "ok",
     "timestamp": 1603881126008,
     "user": {
      "displayName": "M M",
      "photoUrl": "https://lh3.googleusercontent.com/a-/AOh14GhTpe2wb6eeAb5oACw2uQos9tk5KOT_ogG8zrvJog=s64",
      "userId": "00095342535920509079"
     },
     "user_tz": -180
    },
    "id": "hdSTgGR8J4Mm"
   },
   "source": [
    "##2.\t[30 points] Derive Hessian matrix for cost function of logistic regression. Then implement the Newton’s method for logistic regression. Use this method for updating parameters in logistic regression using the same dataset that you generated in question 1."
   ]
  },
  {
   "cell_type": "code",
   "execution_count": 67,
   "metadata": {},
   "outputs": [],
   "source": [
    "import numpy as np\n",
    "from scipy.optimize import approx_fprime\n",
    "\n",
    "\n",
    "def hessian ( x0, epsilon=1.e-5, linear_approx=False, *args ):\n",
    "    \n",
    "    f1 = approx_fprime( x0, calculate_cost_function, *args) \n",
    "\n",
    "    if linear_approx:\n",
    "        f1 = np.matrix(f1)\n",
    "        return f1.transpose() * f1    \n",
    "    \n",
    "    n = x0.shape[0]\n",
    "    hessian = np.zeros ( ( n, n ) )\n",
    "    \n",
    "    xx = x0\n",
    "    for j in xrange( n ):\n",
    "        xx0 = xx[j] \n",
    "        xx[j] = xx0 + epsilon \n",
    "        \n",
    "        f2 = approx_fprime( x0, calculate_cost_function, *args) \n",
    "        hessian[:, j] = (f2 - f1)/epsilon # scale...\n",
    "        xx[j] = xx0        \n",
    "    return hessian\n"
   ]
  },
  {
   "cell_type": "code",
   "execution_count": 68,
   "metadata": {},
   "outputs": [],
   "source": [
    "def newton(f,Df,x0,epsilon,max_iter):\n",
    "\n",
    "    xn = x0\n",
    "    for n in range(0,max_iter):\n",
    "        fxn = f(xn)\n",
    "        if abs(fxn) < epsilon:\n",
    "            print('Found solution after',n,'iterations.')\n",
    "            return xn\n",
    "        Dfxn = Df(xn)\n",
    "        if Dfxn == 0:\n",
    "            print('Zero derivative. No solution found.')\n",
    "            return None\n",
    "        xn = xn - fxn/Dfxn\n",
    "    print('Exceeded maximum iterations. No solution found.')\n",
    "    return None\n"
   ]
  },
  {
   "cell_type": "code",
   "execution_count": 82,
   "metadata": {},
   "outputs": [
    {
     "name": "stdout",
     "output_type": "stream",
     "text": [
      "x.shape = (100, 2) y.shape = (100,)\n",
      "Converged, iterations:  351 !!!\n",
      "theta0 = [0.49769766 0.20685056]\n",
      "the cost of logistic regression (rss, erms) = (77.59886893078517, 0.8809022018974931\n"
     ]
    },
    {
     "data": {
      "image/png": "[encoded data removed]",
      "text/plain": [
       "<Figure size 432x288 with 1 Axes>"
      ]
     },
     "metadata": {
      "needs_background": "light"
     },
     "output_type": "display_data"
    },
    {
     "name": "stdout",
     "output_type": "stream",
     "text": [
      "Done!\n"
     ]
    }
   ],
   "source": [
    "if __name__ == '__main__':\n",
    "    \n",
    "    # generate 2d classification dataset\n",
    "\n",
    "    x, y = make_classification(n_features=2, n_redundant=0, n_informative=1,\n",
    "                             n_clusters_per_class=1,n_samples=100)\n",
    "    print ('x.shape = %s y.shape = %s' %(x.shape, y.shape))\n",
    "\n",
    "    alpha = 0.01 # learning rate\n",
    "    ep = 0.01 # convergence criteria\n",
    "\n",
    "    # call gredient acent\n",
    "    theta0, theta0_seq, J_seq = gradient_ascent_BGA(alpha, x, y, ep, max_iter=2000)\n",
    "    \n",
    "    print (('theta0 = %s') %(theta0)) \n",
    "\n",
    "    n = x.shape[0]\n",
    "    #Calculate the cost of logistic regression using residual sum of squares and root-mean-square error\n",
    "    #(y[i]* math.log(sigmoid(t0*x[i]))) ???\n",
    "    rss = sum([(x[i][1]* math.log(sigmoid(theta0[0]*x[i][0])))**2 for i in range(n)])\n",
    "    erms = math.sqrt(rss/n)\n",
    "    print (('the cost of logistic regression (rss, erms) = (%s, %s') %(rss, erms)) \n",
    "    \n",
    "    \n",
    "    # plot\n",
    "    #for i in range(x.shape[0]):\n",
    "    #    y_predict = sigmoid(theta0*x)\n",
    "    y_predict = theta0[0]*x \n",
    "    x1 = [x[i][0] for i in range(len(x))]\n",
    "    x2 = [x[i][1] for i in range(len(x))]\n",
    "\n",
    "\n",
    "    x_1 = x[np.where(y== 0.0)]\n",
    "    x_2 = x[np.where(y==1.0)]\n",
    "    pylab.plot(x, y_predict, '-r', label='y=2x+1')\n",
    "    #pylab.scatter(x1,x2)\n",
    "    pylab.scatter([x_1[:,0]], [x_1[:,1]], c = 'deepskyblue', label = 'y = 0' )\n",
    "    pylab.scatter([x_2[:,0]], [x_2[:,1]], c = 'tomato', label = 'y = 1' )\n",
    "\n",
    "    pylab.xlabel('x')\n",
    "    pylab.ylabel('y')\n",
    "    pylab.show()\n",
    "    \n",
    "    #pylab.plot(theta0_seq, 'k-')\n",
    "    #pylab.ylabel('t0');\n",
    "    #pylab.xlabel('iteration');\n",
    "    #pylab.show()\n",
    "    \n",
    "    \n",
    "    #pylab.plot(J_seq, 'k-',label=\"ERROR\")\n",
    "    #pylab.ylabel('J');\n",
    "    #pylab.xlabel('iteration');\n",
    "    #pylab.show()\n",
    "    \n",
    "    print (\"Done!\")\n",
    "    "
   ]
  },
  {
   "cell_type": "markdown",
   "metadata": {
    "id": "sd47rAEUJ4Mq"
   },
   "source": [
    "##3.\t[30 points] Find ‘data.csv’ which is a diabetes dataset containing 768 number of instances (patients) and 8 features. Open the dataset, you will see a matrix with 9 columns and 768 rows. The last row contains information about classes of each instances (0 or 1). Repeat tasks in question 1(b) using this dataset."
   ]
  },
  {
   "cell_type": "code",
   "execution_count": 83,
   "metadata": {
    "executionInfo": {
     "elapsed": 2299,
     "status": "ok",
     "timestamp": 1603881126008,
     "user": {
      "displayName": "M M",
      "photoUrl": "https://lh3.googleusercontent.com/a-/AOh14GhTpe2wb6eeAb5oACw2uQos9tk5KOT_ogG8zrvJog=s64",
      "userId": "00095342535920509079"
     },
     "user_tz": -180
    },
    "id": "5FpLBr9dJ4Ms"
   },
   "outputs": [],
   "source": [
    "import pandas as pd\n",
    "\n",
    "def load_data(path, header):\n",
    "    marks_df = pd.read_csv(path, header=header)\n",
    "    return marks_df\n"
   ]
  },
  {
   "cell_type": "code",
   "execution_count": 84,
   "metadata": {
    "colab": {
     "base_uri": "https://localhost:8080/",
     "height": 415
    },
    "executionInfo": {
     "elapsed": 3039,
     "status": "ok",
     "timestamp": 1603881126756,
     "user": {
      "displayName": "M M",
      "photoUrl": "https://lh3.googleusercontent.com/a-/AOh14GhTpe2wb6eeAb5oACw2uQos9tk5KOT_ogG8zrvJog=s64",
      "userId": "00095342535920509079"
     },
     "user_tz": -180
    },
    "id": "cTPTI53ARwdT",
    "outputId": "689b4b8b-01d0-4ff1-b573-8663724dcf49"
   },
   "outputs": [],
   "source": [
    "data = load_data(\"C:/Users/malji/Google Drive/201/ICS 485/Homework/Hw1/data.csv\", None)"
   ]
  },
  {
   "cell_type": "code",
   "execution_count": 85,
   "metadata": {
    "executionInfo": {
     "elapsed": 3035,
     "status": "ok",
     "timestamp": 1603881126756,
     "user": {
      "displayName": "M M",
      "photoUrl": "https://lh3.googleusercontent.com/a-/AOh14GhTpe2wb6eeAb5oACw2uQos9tk5KOT_ogG8zrvJog=s64",
      "userId": "00095342535920509079"
     },
     "user_tz": -180
    },
    "id": "i88t-2K1S2OU"
   },
   "outputs": [],
   "source": [
    "# x = [data[i][:7] for i in range(len(data))]\n",
    "# x"
   ]
  },
  {
   "cell_type": "code",
   "execution_count": 86,
   "metadata": {
    "executionInfo": {
     "elapsed": 3033,
     "status": "ok",
     "timestamp": 1603881126757,
     "user": {
      "displayName": "M M",
      "photoUrl": "https://lh3.googleusercontent.com/a-/AOh14GhTpe2wb6eeAb5oACw2uQos9tk5KOT_ogG8zrvJog=s64",
      "userId": "00095342535920509079"
     },
     "user_tz": -180
    },
    "id": "h1PMj73hTf3B"
   },
   "outputs": [],
   "source": [
    "x = pd.read_csv(\"C:/Users/malji/Google Drive/201/ICS 485/Homework/Hw1/data.csv\", sep=',',header=None)\n"
   ]
  },
  {
   "cell_type": "code",
   "execution_count": 87,
   "metadata": {
    "colab": {
     "base_uri": "https://localhost:8080/",
     "height": 34
    },
    "executionInfo": {
     "elapsed": 3028,
     "status": "ok",
     "timestamp": 1603881126757,
     "user": {
      "displayName": "M M",
      "photoUrl": "https://lh3.googleusercontent.com/a-/AOh14GhTpe2wb6eeAb5oACw2uQos9tk5KOT_ogG8zrvJog=s64",
      "userId": "00095342535920509079"
     },
     "user_tz": -180
    },
    "id": "gJzfyBfJunLD",
    "outputId": "94df8aaf-25e1-4df6-faf8-371badb4fc95"
   },
   "outputs": [
    {
     "data": {
      "text/plain": [
       "(768, 9)"
      ]
     },
     "execution_count": 87,
     "metadata": {},
     "output_type": "execute_result"
    }
   ],
   "source": [
    "x = x.to_numpy(float)\n",
    "x.shape"
   ]
  },
  {
   "cell_type": "code",
   "execution_count": 88,
   "metadata": {
    "colab": {
     "base_uri": "https://localhost:8080/",
     "height": 51
    },
    "executionInfo": {
     "elapsed": 3024,
     "status": "ok",
     "timestamp": 1603881126758,
     "user": {
      "displayName": "M M",
      "photoUrl": "https://lh3.googleusercontent.com/a-/AOh14GhTpe2wb6eeAb5oACw2uQos9tk5KOT_ogG8zrvJog=s64",
      "userId": "00095342535920509079"
     },
     "user_tz": -180
    },
    "id": "IqJwmK1ku5vY",
    "outputId": "3f0052cd-a08b-43c5-bafd-97dec0b9197e"
   },
   "outputs": [
    {
     "name": "stdout",
     "output_type": "stream",
     "text": [
      "(768, 8)\n",
      "(768,)\n"
     ]
    }
   ],
   "source": [
    "X = [x[i][0:8] for i in range(len(x))]\n",
    "X = np.array(X)\n",
    "Y = [x[i][8] for i in range(len(x))]\n",
    "Y = np.array(Y)\n",
    "print(X.shape)\n",
    "print(Y.shape)"
   ]
  },
  {
   "cell_type": "code",
   "execution_count": null,
   "metadata": {
    "executionInfo": {
     "elapsed": 3019,
     "status": "ok",
     "timestamp": 1603881126758,
     "user": {
      "displayName": "M M",
      "photoUrl": "https://lh3.googleusercontent.com/a-/AOh14GhTpe2wb6eeAb5oACw2uQos9tk5KOT_ogG8zrvJog=s64",
      "userId": "00095342535920509079"
     },
     "user_tz": -180
    },
    "id": "PxsAGtPrxsCy"
   },
   "outputs": [],
   "source": []
  },
  {
   "cell_type": "markdown",
   "metadata": {
    "id": "ObcEjVf7xlRQ"
   },
   "source": [
    "##3)\n",
    "\n",
    "a)"
   ]
  },
  {
   "cell_type": "code",
   "execution_count": 91,
   "metadata": {
    "colab": {
     "base_uri": "https://localhost:8080/",
     "height": 370
    },
    "executionInfo": {
     "elapsed": 1955,
     "status": "ok",
     "timestamp": 1603881305197,
     "user": {
      "displayName": "M M",
      "photoUrl": "https://lh3.googleusercontent.com/a-/AOh14GhTpe2wb6eeAb5oACw2uQos9tk5KOT_ogG8zrvJog=s64",
      "userId": "00095342535920509079"
     },
     "user_tz": -180
    },
    "id": "eutW0dmFxpi9",
    "outputId": "fb3a34f3-fe83-4220-bca8-e0555dd143f4"
   },
   "outputs": [
    {
     "name": "stdout",
     "output_type": "stream",
     "text": [
      "x.shape = (768, 8) y.shape = (768,)\n",
      "Converged, iterations:  58 !!!\n",
      "theta0 = [8.56356139 8.14970915 8.54220711 8.76690261 8.95230154 8.15751037\n",
      " 8.51540251 8.75959101]\n",
      "the cost of logistic regression (rss, erms) = (852542.3208942228, 33.317880289683586\n"
     ]
    },
    {
     "data": {
      "image/png": "[encoded data removed]",
      "text/plain": [
       "<Figure size 432x288 with 1 Axes>"
      ]
     },
     "metadata": {
      "needs_background": "light"
     },
     "output_type": "display_data"
    }
   ],
   "source": [
    "print ('x.shape = %s y.shape = %s' %(X.shape, Y.shape))\n",
    "\n",
    "alpha = 0.01 # learning rate\n",
    "ep = 0.01 # convergence criteria\n",
    "\n",
    "# call gredient acent\n",
    "theta0, theta0_seq, J_seq = gradient_ascent_BGA(alpha, X, Y, ep, max_iter=2000)\n",
    "print (('theta0 = %s') %(theta0)) \n",
    "\n",
    "n = X.shape[0]\n",
    "#Calculate the cost of logistic regression using residual sum of squares and root-mean-square error\n",
    "#(y[i]* math.log(sigmoid(t0*x[i]))) ???\n",
    "rss = sum([(X[i][1]* math.log(sigmoid(theta0[0]*X[i][0])))**2 for i in range(n)])\n",
    "erms = math.sqrt(rss/n)\n",
    "print (('the cost of logistic regression (rss, erms) = (%s, %s') %(rss, erms)) \n",
    "\n",
    "\n",
    "# plot\n",
    "#for i in range(x.shape[0]):\n",
    "#    y_predict = sigmoid(theta0*x)\n",
    "y_predict = theta0[0]*X \n",
    "x1 = [X[i][0] for i in range(len(X))]\n",
    "x2 = [X[i][1] for i in range(len(X))]\n",
    "\n",
    "\n",
    "x_1 = X[np.where(Y== 0.0)]\n",
    "x_2 = X[np.where(Y==1.0)]\n",
    "pylab.plot(X, y_predict, '-r', label='y=2x+1')\n",
    "#pylab.scatter(x1,x2)\n",
    "pylab.scatter([x_1[:,0]], [x_1[:,1]], c = 'deepskyblue', label = 'y = 0' )\n",
    "pylab.scatter([x_2[:,0]], [x_2[:,1]], c = 'tomato', label = 'y = 1' )\n",
    "pylab.xlim([0,100])\n",
    "pylab.ylim([0,250])\n",
    "\n",
    "pylab.xlabel('x')\n",
    "pylab.ylabel('y')\n",
    "pylab.show()"
   ]
  },
  {
   "cell_type": "markdown",
   "metadata": {},
   "source": [
    "b)"
   ]
  },
  {
   "cell_type": "code",
   "execution_count": 92,
   "metadata": {
    "colab": {
     "base_uri": "https://localhost:8080/",
     "height": 1000
    },
    "executionInfo": {
     "elapsed": 6838,
     "status": "ok",
     "timestamp": 1603881335129,
     "user": {
      "displayName": "M M",
      "photoUrl": "https://lh3.googleusercontent.com/a-/AOh14GhTpe2wb6eeAb5oACw2uQos9tk5KOT_ogG8zrvJog=s64",
      "userId": "00095342535920509079"
     },
     "user_tz": -180
    },
    "id": "v2ubCGenq0HY",
    "outputId": "3665a463-02b8-4034-db96-64622a1a9400"
   },
   "outputs": [
    {
     "name": "stdout",
     "output_type": "stream",
     "text": [
      "x.shape = (768, 8) y.shape = (768,)\n",
      "[0.73494056 0.12103422 0.55819538 0.58360896 0.8077914  0.91514418\n",
      " 0.7458884  0.85609453]\n"
     ]
    },
    {
     "name": "stderr",
     "output_type": "stream",
     "text": [
      "<ipython-input-50-e331601a12f4>:12: RuntimeWarning: divide by zero encountered in log\n",
      "  y * np.log(probability(theta, x)) + (1 - y) * np.log(\n",
      "<ipython-input-50-e331601a12f4>:12: RuntimeWarning: invalid value encountered in multiply\n",
      "  y * np.log(probability(theta, x)) + (1 - y) * np.log(\n"
     ]
    },
    {
     "name": "stdout",
     "output_type": "stream",
     "text": [
      "Max interactions exceeded!\n",
      "theta0 = [nan nan nan nan nan nan nan nan]\n",
      "the cost of logistic regression (rss, erms) = (nan, nan\n"
     ]
    },
    {
     "data": {
      "image/png": "[encoded data removed]",
      "text/plain": [
       "<Figure size 432x288 with 1 Axes>"
      ]
     },
     "metadata": {
      "needs_background": "light"
     },
     "output_type": "display_data"
    },
    {
     "name": "stdout",
     "output_type": "stream",
     "text": [
      "Done!\n"
     ]
    }
   ],
   "source": [
    "    print ('x.shape = %s y.shape = %s' %(X.shape, Y.shape))\n",
    " \n",
    "    alpha = 0.01 # learning rate\n",
    "    ep = 0.01 # convergence criteria\n",
    "\n",
    "    # call gredient decent, and get intercept(=theta0) and slope(=theta1)\n",
    "    theta0, theta0_seq, J_seq = gradient_ascent_SGD(alpha, X, Y, ep, max_iter=10)\n",
    "    print (('theta0 = %s') %theta0) \n",
    "    \n",
    "    n = X.shape[0]\n",
    "    #Calculate the cost of linear regression using residual sum of squares and root-mean-square error\n",
    "    Y = np.array(Y)\n",
    "    X = np.array(X)\n",
    "    rss = np.sum( [ (np.dot(Y,np.log(sigmoid(np.multiply(theta0,X)))) )**2 ] )\n",
    "    erms = math.sqrt(rss/n)\n",
    "    print (('the cost of logistic regression (rss, erms) = (%s, %s') %(rss, erms)) \n",
    "    \n",
    "    \n",
    "    # plot\n",
    "    #for i in range(x.shape[0]):\n",
    "    #    y_predict = sigmoid(theta0*x)\n",
    "    y_predict = theta0[0]*X \n",
    "    x1 = [X[i][0] for i in range(len(X))]\n",
    "    x2 = [X[i][1] for i in range(len(X))]\n",
    "\n",
    "\n",
    "\n",
    "    pylab.plot(X, y_predict, '-r', label='y=2x+1')\n",
    "    #pylab.scatter(x1,x2)\n",
    "    pylab.scatter([x_1[:,0]], [x_1[:,1]], c = 'deepskyblue', label = 'y = 0' )\n",
    "    pylab.scatter([x_2[:,0]], [x_2[:,1]], c = 'tomato', label = 'y = 1' )\n",
    "\n",
    "    pylab.xlabel('x')\n",
    "    pylab.ylabel('y')\n",
    "    pylab.show()\n",
    "    \n",
    "    #pylab.plot(theta0_seq, 'k-')\n",
    "    #pylab.ylabel('t0');\n",
    "    #pylab.xlabel('iteration');\n",
    "    #pylab.show()\n",
    "        \n",
    "    #pylab.plot(J_seq, 'k-',label=\"ERROR\")\n",
    "    #pylab.ylabel('J');\n",
    "    #pylab.xlabel('iteration');\n",
    "    #pylab.show()\n",
    "    \n",
    "    print (\"Done!\")"
   ]
  }
 ],
 "metadata": {
  "colab": {
   "collapsed_sections": [],
   "name": "Hw1 Old.ipynb",
   "provenance": []
  },
  "kernelspec": {
   "display_name": "Python 3",
   "language": "python",
   "name": "python3"
  },
  "language_info": {
   "codemirror_mode": {
    "name": "ipython",
    "version": 3
   },
   "file_extension": ".py",
   "mimetype": "text/x-python",
   "name": "python",
   "nbconvert_exporter": "python",
   "pygments_lexer": "ipython3",
   "version": "3.8.5"
  }
 },
 "nbformat": 4,
 "nbformat_minor": 1
}
